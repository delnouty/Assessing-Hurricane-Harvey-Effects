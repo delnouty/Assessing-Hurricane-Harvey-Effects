{
 "cells": [
  {
   "cell_type": "markdown",
   "id": "1fe2a75f",
   "metadata": {},
   "source": [
    "# Improving structure of the initial csv file"
   ]
  },
  {
   "cell_type": "code",
   "execution_count": 1,
   "id": "e32a9e5c",
   "metadata": {},
   "outputs": [],
   "source": [
    "import csv\n",
    "from openpyxl import Workbook"
   ]
  },
  {
   "cell_type": "code",
   "execution_count": 2,
   "id": "1f047978",
   "metadata": {},
   "outputs": [
    {
     "name": "stdout",
     "output_type": "stream",
     "text": [
      "Modified data written to 'modified_example.csv'\n"
     ]
    }
   ],
   "source": [
    "# Define the input and output file paths\n",
    "input_file_path = r\"C:\\Users\\darya\\Desktop\\2024_HAR\\HurrData.csv\"\n",
    "modified_file_path = r\"C:\\Users\\darya\\Desktop\\2024_HAR\\modified_example.csv\"\n",
    "\n",
    "def process_row(row):\n",
    "    \"\"\"Modify the row based on the specified conditions.\"\"\"\n",
    "    if row[0].startswith(('18', '19', '20')):\n",
    "        return [',,'] + row\n",
    "    else:\n",
    "        return row + ['\"no\",,,,,,,,,,,,,,,,,,,']\n",
    "\n",
    "def read_and_process_csv(input_path):\n",
    "    \"\"\"Read and process the CSV file.\"\"\"\n",
    "    with open(input_path, 'r') as file:\n",
    "        reader = csv.reader(file)\n",
    "        return [process_row(row) for row in reader]\n",
    "\n",
    "def write_csv(output_path, rows):\n",
    "    \"\"\"Write the processed rows to a new CSV file.\"\"\"\n",
    "    with open(output_path, 'w', newline='') as new_file:\n",
    "        writer = csv.writer(new_file)\n",
    "        writer.writerows(rows)\n",
    "\n",
    "# Read, process, and write the modified CSV file\n",
    "rows = read_and_process_csv(input_file_path)\n",
    "write_csv(modified_file_path, rows)\n",
    "\n",
    "print(\"Modified data written to 'modified_example.csv'\")\n"
   ]
  },
  {
   "cell_type": "code",
   "execution_count": 3,
   "id": "ca09ffb9",
   "metadata": {},
   "outputs": [
    {
     "name": "stdout",
     "output_type": "stream",
     "text": [
      "Final modified data written to 'final_modified_example.csv'\n"
     ]
    }
   ],
   "source": [
    "def remove_quotes_from_file(input_path, output_path):\n",
    "    \"\"\"Remove all double-quote characters from the file.\"\"\"\n",
    "    with open(input_path, 'r') as file:\n",
    "        content = file.read().replace('\"', '')\n",
    "    \n",
    "    with open(output_path, 'w', newline='') as new_file:\n",
    "        new_file.write(content)\n",
    "\n",
    "# Define the path to the final output CSV file\n",
    "final_output_file_path = r\"C:\\Users\\darya\\Desktop\\2024_HAR\\final_modified_example.csv\"\n",
    "\n",
    "# Remove quotes from the modified CSV file and write to the final output file\n",
    "remove_quotes_from_file(modified_file_path, final_output_file_path)\n",
    "\n",
    "print(\"Final modified data written to 'final_modified_example.csv'\")\n"
   ]
  },
  {
   "cell_type": "code",
   "execution_count": 4,
   "id": "1a206e39",
   "metadata": {},
   "outputs": [
    {
     "name": "stdout",
     "output_type": "stream",
     "text": [
      "Data successfully written to 'C:\\Users\\darya\\Desktop\\2024_HAR\\final_modified_example.xlsx' with sheet name 'hurdat'\n"
     ]
    }
   ],
   "source": [
    "from openpyxl import Workbook\n",
    "import csv\n",
    "\n",
    "def convert_csv_to_excel(csv_path, excel_path, separator=\",\", sheet_name=\"hurdat\"):\n",
    "    \"\"\"\n",
    "    Converts a CSV file to an Excel file.\n",
    "    \n",
    "    Parameters:\n",
    "    csv_path (str): The path to the input CSV file.\n",
    "    excel_path (str): The path to the output Excel file.\n",
    "    separator (str): The separator used in the CSV file.\n",
    "    sheet_name (str): The name of the sheet in the Excel file.\n",
    "    \"\"\"\n",
    "    # Create a new workbook and select the active sheet\n",
    "    wb = Workbook()\n",
    "    sheet = wb.active\n",
    "    sheet.title = sheet_name\n",
    "\n",
    "    # Open the CSV file and read its contents\n",
    "    with open(csv_path, mode='r', newline='') as f:\n",
    "        reader = csv.reader(f, delimiter=separator)\n",
    "        for r, row in enumerate(reader):\n",
    "            for c, col in enumerate(row):\n",
    "                cell = sheet.cell(row=r + 1, column=c + 1)\n",
    "                cell.value = col\n",
    "\n",
    "    # Save the workbook to an Excel file\n",
    "    wb.save(excel_path)\n",
    "    print(f\"Data successfully written to '{excel_path}' with sheet name '{sheet_name}'\")\n",
    "\n",
    "# File paths\n",
    "csv_path = \"C:\\\\Users\\\\darya\\\\Desktop\\\\2024_HAR\\\\final_modified_example.csv\"\n",
    "excel_path = \"C:\\\\Users\\\\darya\\\\Desktop\\\\2024_HAR\\\\final_modified_example.xlsx\"\n",
    "\n",
    "# Convert CSV to Excel\n",
    "convert_csv_to_excel(csv_path, excel_path)\n"
   ]
  },
  {
   "cell_type": "code",
   "execution_count": null,
   "id": "cfe876dd",
   "metadata": {},
   "outputs": [],
   "source": []
  }
 ],
 "metadata": {
  "kernelspec": {
   "display_name": "Python 3 (ipykernel)",
   "language": "python",
   "name": "python3"
  },
  "language_info": {
   "codemirror_mode": {
    "name": "ipython",
    "version": 3
   },
   "file_extension": ".py",
   "mimetype": "text/x-python",
   "name": "python",
   "nbconvert_exporter": "python",
   "pygments_lexer": "ipython3",
   "version": "3.11.5"
  }
 },
 "nbformat": 4,
 "nbformat_minor": 5
}
