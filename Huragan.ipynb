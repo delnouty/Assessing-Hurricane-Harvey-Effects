{
 "cells": [
  {
   "cell_type": "markdown",
   "id": "2ebd16ad",
   "metadata": {},
   "source": [
    "# Import the modules\n",
    "\n",
    "\n",
    "It imports the sys module, which provides access to system-specific parameters and functions.\n",
    "It then uses the sys.executable attribute to determine the path to the Python interpreter currently running the script.\n",
    "The !{...} syntax is used to execute shell commands directly from within Python code (commonly used in Jupyter notebooks or IPython). In this case, it installs two Python packages using pip:\n",
    "nlp_rake: A package for extracting keywords from text using the Rapid Automatic Keyword Extraction (RAKE) algorithm.\n",
    "wordcloud: A package for creating word clouds from text data."
   ]
  },
  {
   "cell_type": "code",
   "execution_count": null,
   "id": "bdb7ea1c",
   "metadata": {},
   "outputs": [],
   "source": [
    "import sys\n",
    "!{sys.executable} -m pip install nlp_rake\n",
    "!{sys.executable} -m pip install wordcloud"
   ]
  },
  {
   "cell_type": "markdown",
   "id": "0f07e17f",
   "metadata": {},
   "source": [
    "# Read the page"
   ]
  },
  {
   "cell_type": "code",
   "execution_count": null,
   "id": "20b5663e",
   "metadata": {},
   "outputs": [],
   "source": [
    "url = 'https://en.wikipedia.org/wiki/Hurricane_Harvey'"
   ]
  },
  {
   "cell_type": "code",
   "execution_count": null,
   "id": "0104b079",
   "metadata": {},
   "outputs": [],
   "source": [
    "import requests\n",
    "\n",
    "text = requests.get(url).content.decode('utf-8')\n",
    "print(text[:1000])"
   ]
  },
  {
   "cell_type": "code",
   "execution_count": null,
   "id": "91ac9bde",
   "metadata": {},
   "outputs": [],
   "source": [
    "from html.parser import HTMLParser\n",
    "\n",
    "class MyHTMLParser(HTMLParser):\n",
    "    script = False\n",
    "    res = \"\"\n",
    "    def handle_starttag(self, tag, attrs):\n",
    "        if tag.lower() in [\"script\",\"style\"]:\n",
    "            self.script = True\n",
    "    def handle_endtag(self, tag):\n",
    "        if tag.lower() in [\"script\",\"style\"]:\n",
    "            self.script = False\n",
    "    def handle_data(self, data):\n",
    "        if str.strip(data)==\"\" or self.script:\n",
    "            return\n",
    "        self.res += ' '+data.replace('[ edit ]','')\n",
    "\n",
    "parser = MyHTMLParser()\n",
    "parser.feed(text)\n",
    "text = parser.res\n",
    "print(text[:1000])"
   ]
  },
  {
   "cell_type": "code",
   "execution_count": null,
   "id": "d18b3fc7",
   "metadata": {},
   "outputs": [],
   "source": [
    "import nlp_rake\n",
    "extractor = nlp_rake.Rake(max_words=2,min_freq=5,min_chars=10)\n",
    "res = extractor.apply(text)\n",
    "res"
   ]
  },
  {
   "cell_type": "code",
   "execution_count": null,
   "id": "a7318d20",
   "metadata": {},
   "outputs": [],
   "source": [
    "import matplotlib.pyplot as plt\n",
    "\n",
    "def plot(pair_list):\n",
    "    k,v = zip(*pair_list)\n",
    "    plt.bar(range(len(k)),v)\n",
    "    plt.xticks(range(len(k)),k,rotation='vertical')\n",
    "    plt.show()\n",
    "\n",
    "plot(res)"
   ]
  },
  {
   "cell_type": "code",
   "execution_count": null,
   "id": "5af0994e",
   "metadata": {},
   "outputs": [],
   "source": [
    "from wordcloud import WordCloud\n",
    "import matplotlib.pyplot as plt\n",
    "\n",
    "wc = WordCloud(background_color='white',width=800,height=600)\n",
    "plt.figure(figsize=(15,7))\n",
    "plt.imshow(wc.generate_from_frequencies({ k:v for k,v in res }))"
   ]
  },
  {
   "cell_type": "markdown",
   "id": "206be42c",
   "metadata": {},
   "source": [
    "# Plot the picture"
   ]
  },
  {
   "cell_type": "code",
   "execution_count": null,
   "id": "8e7b50c8",
   "metadata": {},
   "outputs": [],
   "source": [
    "plt.figure(figsize=(15,7))\n",
    "plt.imshow(wc.generate(text))\n"
   ]
  },
  {
   "cell_type": "code",
   "execution_count": null,
   "id": "40d38e63",
   "metadata": {},
   "outputs": [],
   "source": [
    "wc.generate(text).to_file('ds_wordcloud.png')"
   ]
  }
 ],
 "metadata": {
  "kernelspec": {
   "display_name": "Python 3 (ipykernel)",
   "language": "python",
   "name": "python3"
  },
  "language_info": {
   "codemirror_mode": {
    "name": "ipython",
    "version": 3
   },
   "file_extension": ".py",
   "mimetype": "text/x-python",
   "name": "python",
   "nbconvert_exporter": "python",
   "pygments_lexer": "ipython3",
   "version": "3.10.13"
  }
 },
 "nbformat": 4,
 "nbformat_minor": 5
}
